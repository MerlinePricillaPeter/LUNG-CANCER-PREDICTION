{
  "nbformat": 4,
  "nbformat_minor": 0,
  "metadata": {
    "colab": {
      "provenance": [],
      "authorship_tag": "ABX9TyPCvxmmR56lAdo+7Gj18WMQ",
      "include_colab_link": true
    },
    "kernelspec": {
      "name": "python3",
      "display_name": "Python 3"
    },
    "language_info": {
      "name": "python"
    }
  },
  "cells": [
    {
      "cell_type": "markdown",
      "metadata": {
        "id": "view-in-github",
        "colab_type": "text"
      },
      "source": [
        "<a href=\"https://colab.research.google.com/github/MerlinePricillaPeter/LUNG-CANCER-PREDICTION/blob/main/LUNG_CANCER_PREDICTION.ipynb\" target=\"_parent\"><img src=\"https://colab.research.google.com/assets/colab-badge.svg\" alt=\"Open In Colab\"/></a>"
      ]
    },
    {
      "cell_type": "code",
      "execution_count": 1,
      "metadata": {
        "id": "Mx9TaHvoMhR6"
      },
      "outputs": [],
      "source": [
        "import pandas as pd\n",
        "import matplotlib.pyplot as plt\n",
        "import seaborn as sns"
      ]
    },
    {
      "cell_type": "code",
      "source": [
        " #Specifying the file path\n",
        "data = '/content/survey lung cancer.csv'\n",
        "\n",
        "#to  Read the CSV file into a DataFrame\n",
        "df = pd.read_csv(data)\n",
        "\n",
        "# to Display the first few rows of the dataset\n",
        "print(df.head())"
      ],
      "metadata": {
        "colab": {
          "base_uri": "https://localhost:8080/"
        },
        "id": "uUBF533iMsg7",
        "outputId": "5fc1ac9a-d03f-4b27-df95-4a116ee43118"
      },
      "execution_count": 2,
      "outputs": [
        {
          "output_type": "stream",
          "name": "stdout",
          "text": [
            "  GENDER  AGE  SMOKING  YELLOW_FINGERS  ANXIETY  PEER_PRESSURE  \\\n",
            "0      M   69        1               2        2              1   \n",
            "1      M   74        2               1        1              1   \n",
            "2      F   59        1               1        1              2   \n",
            "3      M   63        2               2        2              1   \n",
            "4      F   63        1               2        1              1   \n",
            "\n",
            "   CHRONIC DISEASE  FATIGUE   ALLERGY   WHEEZING  ALCOHOL CONSUMING  COUGHING  \\\n",
            "0                1         2         1         2                  2         2   \n",
            "1                2         2         2         1                  1         1   \n",
            "2                1         2         1         2                  1         2   \n",
            "3                1         1         1         1                  2         1   \n",
            "4                1         1         1         2                  1         2   \n",
            "\n",
            "   SHORTNESS OF BREATH  SWALLOWING DIFFICULTY  CHEST PAIN LUNG_CANCER  \n",
            "0                    2                      2           2         YES  \n",
            "1                    2                      2           2         YES  \n",
            "2                    2                      1           2          NO  \n",
            "3                    1                      2           2          NO  \n",
            "4                    2                      1           1          NO  \n"
          ]
        }
      ]
    },
    {
      "cell_type": "code",
      "source": [
        "# Display the column names of the DataFrame\n",
        "print(df.columns)"
      ],
      "metadata": {
        "colab": {
          "base_uri": "https://localhost:8080/"
        },
        "id": "72ykKiCqMuqt",
        "outputId": "1020015d-18fd-485b-ddaf-e98c7f05d432"
      },
      "execution_count": 3,
      "outputs": [
        {
          "output_type": "stream",
          "name": "stdout",
          "text": [
            "Index(['GENDER', 'AGE', 'SMOKING', 'YELLOW_FINGERS', 'ANXIETY',\n",
            "       'PEER_PRESSURE', 'CHRONIC DISEASE', 'FATIGUE ', 'ALLERGY ', 'WHEEZING',\n",
            "       'ALCOHOL CONSUMING', 'COUGHING', 'SHORTNESS OF BREATH',\n",
            "       'SWALLOWING DIFFICULTY', 'CHEST PAIN', 'LUNG_CANCER'],\n",
            "      dtype='object')\n"
          ]
        }
      ]
    },
    {
      "cell_type": "code",
      "source": [
        "# to find the missing values in the given dataset\n",
        "print(\"Data Types and Missing Values:\")\n",
        "print(df.info())"
      ],
      "metadata": {
        "colab": {
          "base_uri": "https://localhost:8080/"
        },
        "id": "UZdppmMFMxc2",
        "outputId": "8b060734-7c01-4a9f-a8ce-1c9fee39f01a"
      },
      "execution_count": 4,
      "outputs": [
        {
          "output_type": "stream",
          "name": "stdout",
          "text": [
            "Data Types and Missing Values:\n",
            "<class 'pandas.core.frame.DataFrame'>\n",
            "RangeIndex: 309 entries, 0 to 308\n",
            "Data columns (total 16 columns):\n",
            " #   Column                 Non-Null Count  Dtype \n",
            "---  ------                 --------------  ----- \n",
            " 0   GENDER                 309 non-null    object\n",
            " 1   AGE                    309 non-null    int64 \n",
            " 2   SMOKING                309 non-null    int64 \n",
            " 3   YELLOW_FINGERS         309 non-null    int64 \n",
            " 4   ANXIETY                309 non-null    int64 \n",
            " 5   PEER_PRESSURE          309 non-null    int64 \n",
            " 6   CHRONIC DISEASE        309 non-null    int64 \n",
            " 7   FATIGUE                309 non-null    int64 \n",
            " 8   ALLERGY                309 non-null    int64 \n",
            " 9   WHEEZING               309 non-null    int64 \n",
            " 10  ALCOHOL CONSUMING      309 non-null    int64 \n",
            " 11  COUGHING               309 non-null    int64 \n",
            " 12  SHORTNESS OF BREATH    309 non-null    int64 \n",
            " 13  SWALLOWING DIFFICULTY  309 non-null    int64 \n",
            " 14  CHEST PAIN             309 non-null    int64 \n",
            " 15  LUNG_CANCER            309 non-null    object\n",
            "dtypes: int64(14), object(2)\n",
            "memory usage: 38.8+ KB\n",
            "None\n"
          ]
        }
      ]
    },
    {
      "cell_type": "code",
      "source": [
        "# perform a basic statistical summary for analysing\n",
        "print(\"\\nBasic Statistical Summary:\")\n",
        "print(df.describe())\n"
      ],
      "metadata": {
        "colab": {
          "base_uri": "https://localhost:8080/"
        },
        "id": "sM-CTjZIM1PD",
        "outputId": "fc9d7900-14f7-433e-9d76-13339ef5da35"
      },
      "execution_count": 5,
      "outputs": [
        {
          "output_type": "stream",
          "name": "stdout",
          "text": [
            "\n",
            "Basic Statistical Summary:\n",
            "              AGE     SMOKING  YELLOW_FINGERS     ANXIETY  PEER_PRESSURE  \\\n",
            "count  309.000000  309.000000      309.000000  309.000000     309.000000   \n",
            "mean    62.673139    1.563107        1.569579    1.498382       1.501618   \n",
            "std      8.210301    0.496806        0.495938    0.500808       0.500808   \n",
            "min     21.000000    1.000000        1.000000    1.000000       1.000000   \n",
            "25%     57.000000    1.000000        1.000000    1.000000       1.000000   \n",
            "50%     62.000000    2.000000        2.000000    1.000000       2.000000   \n",
            "75%     69.000000    2.000000        2.000000    2.000000       2.000000   \n",
            "max     87.000000    2.000000        2.000000    2.000000       2.000000   \n",
            "\n",
            "       CHRONIC DISEASE    FATIGUE     ALLERGY     WHEEZING  ALCOHOL CONSUMING  \\\n",
            "count       309.000000  309.000000  309.000000  309.000000         309.000000   \n",
            "mean          1.504854    1.673139    1.556634    1.556634           1.556634   \n",
            "std           0.500787    0.469827    0.497588    0.497588           0.497588   \n",
            "min           1.000000    1.000000    1.000000    1.000000           1.000000   \n",
            "25%           1.000000    1.000000    1.000000    1.000000           1.000000   \n",
            "50%           2.000000    2.000000    2.000000    2.000000           2.000000   \n",
            "75%           2.000000    2.000000    2.000000    2.000000           2.000000   \n",
            "max           2.000000    2.000000    2.000000    2.000000           2.000000   \n",
            "\n",
            "         COUGHING  SHORTNESS OF BREATH  SWALLOWING DIFFICULTY  CHEST PAIN  \n",
            "count  309.000000           309.000000             309.000000  309.000000  \n",
            "mean     1.579288             1.640777               1.469256    1.556634  \n",
            "std      0.494474             0.480551               0.499863    0.497588  \n",
            "min      1.000000             1.000000               1.000000    1.000000  \n",
            "25%      1.000000             1.000000               1.000000    1.000000  \n",
            "50%      2.000000             2.000000               1.000000    2.000000  \n",
            "75%      2.000000             2.000000               2.000000    2.000000  \n",
            "max      2.000000             2.000000               2.000000    2.000000  \n"
          ]
        }
      ]
    },
    {
      "cell_type": "code",
      "source": [
        "print(\"\\nMissing Values:\")\n",
        "print(df.isnull().sum())"
      ],
      "metadata": {
        "colab": {
          "base_uri": "https://localhost:8080/"
        },
        "id": "MWJjqfzZM4Ye",
        "outputId": "4f5c8469-d7fe-46b1-cefd-12b6cbe1590d"
      },
      "execution_count": 6,
      "outputs": [
        {
          "output_type": "stream",
          "name": "stdout",
          "text": [
            "\n",
            "Missing Values:\n",
            "GENDER                   0\n",
            "AGE                      0\n",
            "SMOKING                  0\n",
            "YELLOW_FINGERS           0\n",
            "ANXIETY                  0\n",
            "PEER_PRESSURE            0\n",
            "CHRONIC DISEASE          0\n",
            "FATIGUE                  0\n",
            "ALLERGY                  0\n",
            "WHEEZING                 0\n",
            "ALCOHOL CONSUMING        0\n",
            "COUGHING                 0\n",
            "SHORTNESS OF BREATH      0\n",
            "SWALLOWING DIFFICULTY    0\n",
            "CHEST PAIN               0\n",
            "LUNG_CANCER              0\n",
            "dtype: int64\n"
          ]
        }
      ]
    },
    {
      "cell_type": "code",
      "source": [
        "# Checking for unique values in each column\n",
        "print(\"\\nUnique Values in Each Column:\")\n",
        "for column in df.columns:\n",
        "    print(f\"{column}: {df[column].unique()}\")"
      ],
      "metadata": {
        "colab": {
          "base_uri": "https://localhost:8080/"
        },
        "id": "sogKPkoLM7Qk",
        "outputId": "66a2fa74-6e03-40aa-8b56-29605091f562"
      },
      "execution_count": 7,
      "outputs": [
        {
          "output_type": "stream",
          "name": "stdout",
          "text": [
            "\n",
            "Unique Values in Each Column:\n",
            "GENDER: ['M' 'F']\n",
            "AGE: [69 74 59 63 75 52 51 68 53 61 72 60 58 48 57 44 64 21 65 55 62 56 67 77\n",
            " 70 54 49 73 47 71 66 76 78 81 79 38 39 87 46]\n",
            "SMOKING: [1 2]\n",
            "YELLOW_FINGERS: [2 1]\n",
            "ANXIETY: [2 1]\n",
            "PEER_PRESSURE: [1 2]\n",
            "CHRONIC DISEASE: [1 2]\n",
            "FATIGUE : [2 1]\n",
            "ALLERGY : [1 2]\n",
            "WHEEZING: [2 1]\n",
            "ALCOHOL CONSUMING: [2 1]\n",
            "COUGHING: [2 1]\n",
            "SHORTNESS OF BREATH: [2 1]\n",
            "SWALLOWING DIFFICULTY: [2 1]\n",
            "CHEST PAIN: [2 1]\n",
            "LUNG_CANCER: ['YES' 'NO']\n"
          ]
        }
      ]
    }
  ]
}